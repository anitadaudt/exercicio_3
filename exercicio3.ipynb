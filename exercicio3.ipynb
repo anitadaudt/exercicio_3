{
 "cells": [
  {
   "cell_type": "code",
   "execution_count": 4,
   "id": "5df166ca-4f42-4525-aef1-3328feb16a12",
   "metadata": {},
   "outputs": [
    {
     "data": {
      "text/plain": [
       "'\\nExercício 3\\nAutor: Anita Daudt\\nData: 27/02/2025\\nVersão 0.0.1\\n'"
      ]
     },
     "execution_count": 4,
     "metadata": {},
     "output_type": "execute_result"
    }
   ],
   "source": [
    "\"\"\"\n",
    "Exercício 3\n",
    "Autor: Anita Daudt\n",
    "Data: 27/02/2025\n",
    "Versão 0.0.1\n",
    "\"\"\""
   ]
  },
  {
   "cell_type": "code",
   "execution_count": 7,
   "id": "418ea51a-d803-4359-b39f-cea7220b5583",
   "metadata": {},
   "outputs": [],
   "source": [
    "# Alocação de memória: \n",
    "\n",
    "numero_1 = 0\n",
    "numero_2 = 0\n",
    "soma = 0"
   ]
  },
  {
   "cell_type": "code",
   "execution_count": 9,
   "id": "1cb20ff8-47c0-43c5-9309-33c8459bba72",
   "metadata": {},
   "outputs": [
    {
     "name": "stdin",
     "output_type": "stream",
     "text": [
      "Digite o primeiro número:  5\n",
      "Digite o segundo número:  2\n"
     ]
    }
   ],
   "source": [
    "# Entrada de dados:\n",
    "\n",
    "numero_1 = int(input(\"Digite o primeiro número: \"))\n",
    "numero_2 = int(input(\"Digite o segundo número: \"))"
   ]
  },
  {
   "cell_type": "code",
   "execution_count": 12,
   "id": "67dad0ab-413c-4bec-9ca9-4487d66633a2",
   "metadata": {},
   "outputs": [],
   "source": [
    "# Processamento de dados:\n",
    "\n",
    "soma = numero_1 + numero_2"
   ]
  },
  {
   "cell_type": "code",
   "execution_count": 14,
   "id": "58fcb367-7d8b-4a64-815f-50c52b8f8b1f",
   "metadata": {},
   "outputs": [
    {
     "name": "stdout",
     "output_type": "stream",
     "text": [
      "A soma dos dois números é: 7\n"
     ]
    }
   ],
   "source": [
    "# Saída de dados: \n",
    "\n",
    "print(\"A soma dos dois números é:\", soma)"
   ]
  },
  {
   "cell_type": "code",
   "execution_count": null,
   "id": "444171b5-8ab6-487f-8a31-1c623b7baabd",
   "metadata": {},
   "outputs": [],
   "source": []
  }
 ],
 "metadata": {
  "kernelspec": {
   "display_name": "Python [conda env:anaconda 2]",
   "language": "python",
   "name": "conda-env-anaconda_2-py"
  },
  "language_info": {
   "codemirror_mode": {
    "name": "ipython",
    "version": 3
   },
   "file_extension": ".py",
   "mimetype": "text/x-python",
   "name": "python",
   "nbconvert_exporter": "python",
   "pygments_lexer": "ipython3",
   "version": "3.12.7"
  }
 },
 "nbformat": 4,
 "nbformat_minor": 5
}
